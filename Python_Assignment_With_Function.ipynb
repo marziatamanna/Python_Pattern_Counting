{
 "cells": [
  {
   "cell_type": "code",
   "execution_count": 1,
   "metadata": {
    "collapsed": false
   },
   "outputs": [
    {
     "name": "stderr",
     "output_type": "stream",
     "text": [
      "  % Total    % Received % Xferd  Average Speed   Time    Time     Time  Current\n",
      "                                 Dload  Upload   Total   Spent    Left  Speed\n",
      "\n",
      "  0     0    0     0    0     0      0      0 --:--:-- --:--:-- --:--:--     0\n",
      "100 21190  100 21190    0     0   328k      0 --:--:-- --:--:-- --:--:--  440k\n"
     ]
    }
   ],
   "source": [
    "# 1. Count the number of each base across all sequences.\n",
    "!curl -O http://rachelss.github.io/Bioinformatics/sample.fastq #downloading the sample.fastq data\n",
    "filename = 'sample.fastq'\n",
    "f = open(filename,'r')\n",
    "fastq = f.readlines()\n",
    "def count_base1(file_name):\n",
    "    count_bases = {'A':0, 'C':0, 'G':0, 'T':0}\n",
    "    for line_num,line in enumerate(file_name):\n",
    "        if line_num % 4 == 1:\n",
    "            for base in line:\n",
    "                if base == 'A':\n",
    "                    count_bases['A'] += 1\n",
    "                elif base == 'C':\n",
    "                      count_bases['C'] += 1 \n",
    "                elif base == 'G':\n",
    "                      count_bases['G'] += 1 \n",
    "                elif base == 'T':\n",
    "                      count_bases['T'] += 1\n",
    "    print(count_bases)"
   ]
  },
  {
   "cell_type": "code",
   "execution_count": 2,
   "metadata": {
    "collapsed": false
   },
   "outputs": [
    {
     "name": "stdout",
     "output_type": "stream",
     "text": [
      "{'T': 2444, 'A': 2517, 'C': 2550, 'G': 2489}\n"
     ]
    }
   ],
   "source": [
    "count_base1(fastq)"
   ]
  },
  {
   "cell_type": "code",
   "execution_count": 4,
   "metadata": {
    "collapsed": false
   },
   "outputs": [],
   "source": [
    "# 2. Count the number of each pair of bases (described as kmers of size 2).\n",
    "def count_kmers2(file_name):\n",
    "    count_kmers = {'AA':0, 'CC':0, 'GG':0, 'TT':0, 'AT':0, 'GT':0, 'AC':0, 'AG':0, 'CA':0, 'CG':0, 'CT':0, 'GA':0, 'GC':0, 'TA':0, 'TC':0, 'TG':0}\n",
    "#count all kmers of length two in this file\n",
    "    for line_num,line in enumerate(file_name):\n",
    "        if line_num % 4 == 1:\n",
    "            for base_num,base in enumerate (line[0:-2]):     \n",
    "                kmer = line[base_num:base_num+2]\n",
    "                kmer = ''.join(kmer)\n",
    "                count_kmers[kmer] += 1      \n",
    "    print(count_kmers)"
   ]
  },
  {
   "cell_type": "code",
   "execution_count": 5,
   "metadata": {
    "collapsed": false
   },
   "outputs": [
    {
     "name": "stdout",
     "output_type": "stream",
     "text": [
      "{'CA': 638, 'TT': 583, 'AC': 665, 'TA': 588, 'GA': 633, 'GC': 620, 'TG': 628, 'CT': 636, 'GG': 581, 'GT': 627, 'AT': 574, 'AA': 632, 'TC': 615, 'CG': 623, 'AG': 627, 'CC': 630}\n"
     ]
    }
   ],
   "source": [
    "count_kmers2(fastq)"
   ]
  },
  {
   "cell_type": "code",
   "execution_count": 8,
   "metadata": {
    "collapsed": true
   },
   "outputs": [],
   "source": [
    "# 3. Count the number of each pair of bases, without  assuming you know in advance the possible pairs\n",
    "def count_kmers2unknown(file_name):\n",
    "    count_kmers = {}\n",
    "#check if key is in dictionary or not\n",
    "    for line_num,line in enumerate(file_name):\n",
    "        if line_num % 4 == 1:     \n",
    "            for base_num,base in enumerate (line[0:-2]):\n",
    "                kmer = line[base_num:base_num+2]\n",
    "                kmer = ''.join(kmer)\n",
    "                if kmer in count_kmers:\n",
    "                    count_kmers[kmer] += 1\n",
    "                else: count_kmers[kmer] = 1\n",
    "    print(count_kmers)"
   ]
  },
  {
   "cell_type": "code",
   "execution_count": 9,
   "metadata": {
    "collapsed": false
   },
   "outputs": [
    {
     "name": "stdout",
     "output_type": "stream",
     "text": [
      "{'CA': 638, 'TT': 583, 'TG': 628, 'TA': 588, 'GA': 633, 'GC': 620, 'CT': 636, 'GG': 581, 'GT': 627, 'AT': 574, 'CC': 630, 'TC': 615, 'CG': 623, 'AG': 627, 'AC': 665, 'AA': 632}\n"
     ]
    }
   ],
   "source": [
    "count_kmers2unknown(fastq)"
   ]
  },
  {
   "cell_type": "code",
   "execution_count": 13,
   "metadata": {
    "collapsed": false
   },
   "outputs": [],
   "source": [
    "# 4. Alter the counting function to allow for counting kmers of any size.\n",
    "def count_kmersanysize(file_name,n):\n",
    "    count_kmers = {}\n",
    "#check if key is in dictionary or not\n",
    "    for line_num,line in enumerate(file_name):\n",
    "        if line_num % 4 == 1:     \n",
    "            for base_num,base in enumerate (line[0:-2]):\n",
    "                kmer = line[base_num:base_num+n]\n",
    "                kmer = ''.join(kmer)\n",
    "                if kmer in count_kmers:\n",
    "                    count_kmers[kmer] += 1\n",
    "                else: count_kmers[kmer] = 1\n",
    "    print(count_kmers)"
   ]
  },
  {
   "cell_type": "code",
   "execution_count": 14,
   "metadata": {
    "collapsed": false
   },
   "outputs": [
    {
     "name": "stdout",
     "output_type": "stream",
     "text": [
      "{'CA': 638, 'TT': 583, 'TG': 628, 'TA': 588, 'GA': 633, 'GC': 620, 'CT': 636, 'GG': 581, 'GT': 627, 'AT': 574, 'CC': 630, 'TC': 615, 'CG': 623, 'AG': 627, 'AC': 665, 'AA': 632}\n"
     ]
    }
   ],
   "source": [
    "count_kmersanysize(fastq,2)"
   ]
  },
  {
   "cell_type": "code",
   "execution_count": 15,
   "metadata": {
    "collapsed": false
   },
   "outputs": [
    {
     "name": "stdout",
     "output_type": "stream",
     "text": [
      "{'G': 2461, 'T': 2414, 'C': 2527, 'A': 2498}\n"
     ]
    }
   ],
   "source": [
    "count_kmersanysize(fastq,1)"
   ]
  },
  {
   "cell_type": "code",
   "execution_count": 16,
   "metadata": {
    "collapsed": false
   },
   "outputs": [
    {
     "name": "stdout",
     "output_type": "stream",
     "text": [
      "{'GC\\n': 5, 'CAC': 168, 'GGG': 133, 'TTT': 149, 'CT\\n': 7, 'AGG': 145, 'CG\\n': 2, 'AGC': 156, 'TT\\n': 10, 'GTG': 166, 'ATG': 144, 'GCA': 154, 'CGG': 147, 'CGA': 169, 'GCG': 164, 'TCT': 147, 'TCA': 139, 'AAC': 174, 'CGT': 143, 'CAT': 150, 'GAA': 166, 'TAT': 128, 'TGT': 146, 'CTA': 156, 'AG\\n': 5, 'ACT': 175, 'TTG': 136, 'AT\\n': 5, 'TAG': 148, 'ATA': 139, 'ATT': 147, 'GCC': 157, 'TTA': 140, 'TCG': 155, 'GGT': 149, 'AA\\n': 4, 'AGT': 176, 'GG\\n': 9, 'TA\\n': 3, 'GTA': 146, 'TC\\n': 5, 'TTC': 148, 'CAG': 170, 'CCA': 166, 'CCG': 155, 'ACA': 172, 'GTT': 148, 'ATC': 139, 'TCC': 169, 'GAT': 148, 'CC\\n': 4, 'CGC': 162, 'GCT': 140, 'TGC': 152, 'GGA': 150, 'AGA': 145, 'CTT': 132, 'AC\\n': 9, 'CCT': 169, 'CA\\n': 6, 'GGC': 140, 'CAA': 144, 'CTG': 178, 'TAC': 154, 'GAC': 163, 'AAG': 154, 'CCC': 136, 'ACC': 165, 'GA\\n': 6, 'TAA': 155, 'GAG': 150, 'TG\\n': 12, 'GT\\n': 8, 'AAA': 158, 'CTC': 163, 'TGG': 153, 'GTC': 159, 'TGA': 165, 'ACG': 144, 'AAT': 142}\n"
     ]
    }
   ],
   "source": [
    "count_kmersanysize(fastq,3)"
   ]
  },
  {
   "cell_type": "code",
   "execution_count": 17,
   "metadata": {
    "collapsed": true
   },
   "outputs": [],
   "source": [
    "# 4. Alter the counting function to allow for counting kmers of any size.\n",
    "def count_kmersanysize(file_name,n):\n",
    "    count_kmers = {}\n",
    "#check if key is in dictionary or not\n",
    "    for line_num,line in enumerate(file_name):\n",
    "        if line_num % 4 == 1:     \n",
    "            for base_num,base in enumerate (line):\n",
    "                kmer = line[base_num:base_num+n]\n",
    "                kmer = ''.join(kmer)\n",
    "                if kmer in count_kmers:\n",
    "                    count_kmers[kmer] += 1\n",
    "                else: count_kmers[kmer] = 1\n",
    "    print(count_kmers)"
   ]
  },
  {
   "cell_type": "code",
   "execution_count": 18,
   "metadata": {
    "collapsed": false
   },
   "outputs": [
    {
     "name": "stdout",
     "output_type": "stream",
     "text": [
      "{'GC\\n': 5, 'CAC': 168, 'GGG': 133, 'TTT': 149, 'CT\\n': 7, 'AGG': 145, 'CG\\n': 2, 'AGC': 156, 'GCG': 164, 'TT\\n': 10, 'GTG': 166, 'ATG': 144, 'GCA': 154, 'CGG': 147, 'CGA': 169, 'T\\n': 30, 'TCT': 147, 'TCA': 139, 'AAC': 174, 'CGT': 143, 'CAT': 150, 'GAA': 166, 'TAT': 128, 'TGT': 146, 'CTA': 156, '\\n': 100, 'ACT': 175, 'TTG': 136, 'AT\\n': 5, 'TAG': 148, 'ATA': 139, 'ATT': 147, 'GCC': 157, 'TTA': 140, 'TCG': 155, 'GGT': 149, 'AA\\n': 4, 'AGT': 176, 'GG\\n': 9, 'TA\\n': 3, 'GTA': 146, 'AC\\n': 9, 'TC\\n': 5, 'TTC': 148, 'CAG': 170, 'CCA': 166, 'CCG': 155, 'ACA': 172, 'GTT': 148, 'ATC': 139, 'TCC': 169, 'GAT': 148, 'CC\\n': 4, 'CGC': 162, 'GCT': 140, 'TGC': 152, 'GGA': 150, 'AG\\n': 5, 'AGA': 145, 'CTT': 132, 'G\\n': 28, 'CCT': 169, 'CA\\n': 6, 'GGC': 140, 'CAA': 144, 'CTG': 178, 'TAC': 154, 'GAC': 163, 'AAG': 154, 'CCC': 136, 'ACC': 165, 'GA\\n': 6, 'TAA': 155, 'C\\n': 23, 'GAG': 150, 'TG\\n': 12, 'A\\n': 19, 'GT\\n': 8, 'AAA': 158, 'CTC': 163, 'TGG': 153, 'GTC': 159, 'TGA': 165, 'ACG': 144, 'AAT': 142}\n"
     ]
    }
   ],
   "source": [
    "count_kmersanysize(fastq,3)"
   ]
  },
  {
   "cell_type": "code",
   "execution_count": 19,
   "metadata": {
    "collapsed": false
   },
   "outputs": [
    {
     "name": "stdout",
     "output_type": "stream",
     "text": [
      "{'A\\n': 19, 'CA': 638, 'TT': 583, 'TG': 628, '\\n': 100, 'TA': 588, 'T\\n': 30, 'GA': 633, 'GC': 620, 'CT': 636, 'GG': 581, 'GT': 627, 'AT': 574, 'CC': 630, 'G\\n': 28, 'TC': 615, 'CG': 623, 'AG': 627, 'C\\n': 23, 'AC': 665, 'AA': 632}\n"
     ]
    }
   ],
   "source": [
    "count_kmersanysize(fastq,2)"
   ]
  },
  {
   "cell_type": "code",
   "execution_count": 20,
   "metadata": {
    "collapsed": false
   },
   "outputs": [
    {
     "name": "stdout",
     "output_type": "stream",
     "text": [
      "{'\\n': 100, 'G': 2489, 'T': 2444, 'C': 2550, 'A': 2517}\n"
     ]
    }
   ],
   "source": [
    "count_kmersanysize(fastq,1)"
   ]
  },
  {
   "cell_type": "code",
   "execution_count": 21,
   "metadata": {
    "collapsed": false
   },
   "outputs": [
    {
     "name": "stdout",
     "output_type": "stream",
     "text": [
      "{'GT\\n': 8, 'GCTA': 29, 'GATA': 41, 'CGCA': 47, 'ACGC': 38, 'AGGC': 43, 'GTAG': 47, 'TGCT': 38, 'TATC': 33, 'GA\\n': 6, 'A\\n': 19, 'GCA\\n': 3, 'TGTG': 33, 'CGAG': 39, 'AGTA': 45, 'ACCC': 24, 'GGT\\n': 4, 'CGAT': 47, 'AAGG': 31, 'ACAT': 45, 'CTGC': 39, 'CTTC': 27, 'TTAT': 30, 'TG\\n': 12, 'TTGT': 26, 'AACG': 30, 'TAGC': 41, 'TATT': 28, 'CCAG': 42, 'C\\n': 23, 'ATAG': 38, 'GACT': 36, 'TGC\\n': 1, 'GCAT': 30, 'ATGA': 45, 'TAAA': 43, 'GAAA': 44, 'ATT\\n': 1, 'GCTG': 36, 'TGAG': 40, 'TAAT': 42, 'GTAA': 31, 'ACAG': 47, 'CGGC': 37, 'TTTA': 32, 'TCG\\n': 1, 'ACA\\n': 1, 'ACAC': 39, 'CCT\\n': 3, 'GGAT': 32, 'GGGA': 40, 'AAA\\n': 2, 'AACT': 50, 'GGC\\n': 2, 'ACGG': 32, 'GACG': 36, 'CTTA': 46, 'AGT\\n': 1, 'TTC\\n': 1, 'AAT\\n': 2, 'GCGT': 31, 'TA\\n': 3, 'TCAC': 36, 'GTCG': 35, 'TCC\\n': 1, 'TCGT': 39, 'CGTA': 28, 'GGAC': 40, 'TTT\\n': 2, 'CGAA': 45, 'GTAC': 36, 'CTGT': 52, 'ATCG': 31, 'CAGG': 38, 'ATC\\n': 1, 'CTCG': 49, 'GAAG': 42, 'TAGT': 38, 'GAAT': 29, 'CACC': 32, 'ATGT': 31, 'TAC\\n': 1, 'TAGA': 33, 'TGAA': 39, 'ATCA': 28, 'CT\\n': 7, 'AGCT': 29, 'GGAG': 38, 'TAG\\n': 2, 'AGAT': 34, 'CCGA': 41, 'GGCT': 35, 'CCAT': 39, 'AATG': 34, 'TCTT': 28, 'CAT\\n': 1, 'ATTT': 36, 'AAAT': 37, 'AA\\n': 4, 'CGAC': 35, 'AGCA': 38, 'CAC\\n': 2, 'TCTA': 40, 'GTGA': 45, 'TCAT': 34, 'AGAA': 43, 'TCTC': 40, 'TCCT': 49, 'TCCA': 39, 'TC\\n': 5, 'CCCA': 32, 'AGGT': 41, 'TT\\n': 10, 'CGCC': 41, 'GCTC': 35, 'TCGC': 42, 'TTAG': 31, 'GGGC': 26, 'ATAA': 38, 'CCGG': 31, 'ACC\\n': 1, 'TGTT': 39, 'TAGG': 34, 'CATC': 40, 'TTCC': 44, 'GTT\\n': 3, 'GGTC': 34, 'GATT': 32, 'AAGT': 46, 'TCAG': 32, 'GGTG': 44, 'ACTG': 49, 'GAA\\n': 1, 'GGG\\n': 1, 'ACTA': 44, 'TGGC': 33, 'CTG\\n': 3, 'CGTT': 35, 'GAC\\n': 3, 'TGT\\n': 3, 'ATAT': 28, 'CC\\n': 4, 'CTTT': 31, 'AGTG': 46, 'G\\n': 28, 'GAAC': 50, 'CCAA': 35, 'GCCT': 42, 'GTCC': 50, 'ATCC': 37, 'GGCA': 31, 'GTTC': 47, 'AC\\n': 9, 'GTTG': 33, 'TTGC': 38, 'ACAA': 40, 'GAGG': 39, 'CCCC': 32, 'GTTT': 33, 'CCAC': 50, 'GGGG': 33, 'AAAG': 44, 'CGCT': 34, 'TACC': 32, 'CGGT': 31, 'GCGG': 51, 'CCCG': 36, 'TCTG': 39, 'AGTC': 47, 'TATA': 32, 'AAGA': 41, 'CGTC': 37, 'GCCC': 40, 'ACCT': 41, 'TGA\\n': 2, 'CGGA': 35, 'ACCG': 50, 'CTT\\n': 4, 'TGCA': 36, 'TCCG': 41, 'ACGA': 44, 'GCC\\n': 2, 'TAA\\n': 1, 'AAAC': 41, 'TCGG': 32, 'AGG\\n': 2, 'ACG\\n': 1, 'GGCG': 36, 'TTTC': 28, 'TAAG': 31, 'CATG': 38, 'AGC\\n': 1, 'GCGC': 42, 'CCGT': 43, 'AT\\n': 5, 'GATG': 36, 'AACA': 37, 'CCTC': 38, 'TCCC': 39, 'GGTA': 33, 'CTGA': 43, 'CAAG': 35, 'CA\\n': 6, 'GTTA': 32, 'AATT': 42, 'ATCT': 42, 'GAGT': 41, 'CTTG': 24, 'TGGT': 44, 'GATC': 37, 'CTCA': 44, 'TGTC': 35, 'CGCG': 39, 'GAT\\n': 2, 'TTA\\n': 2, 'TTCG': 38, 'ATGG': 33, 'TGG\\n': 5, 'TTTG': 40, 'ATGC': 31, 'GTCT': 41, 'AATC': 29, 'GGGT': 33, 'TGAT': 33, 'ACCA': 49, 'ATG\\n': 4, 'TGGA': 43, 'TTCT': 31, 'CCTT': 35, 'AGGA': 31, 'GACC': 45, 'CG\\n': 2, 'CTAG': 30, 'CCGC': 40, 'TTAC': 38, 'CGA\\n': 3, 'ACTT': 32, 'CATT': 42, 'TTG\\n': 2, 'CAGC': 47, 'ATTA': 30, 'CGTG': 43, 'AGAC': 35, 'AAGC': 34, '\\n': 100, 'CACA': 48, 'CACT': 49, 'TACG': 39, 'ACTC': 49, 'AGCC': 43, 'GC\\n': 5, 'CAAC': 42, 'ATTC': 44, 'TTCA': 34, 'TGCG': 42, 'GTGG': 39, 'CCCT': 36, 'GGTT': 34, 'TGCC': 35, 'GTGT': 37, 'GTGC': 42, 'T\\n': 30, 'GAGA': 37, 'CGGG': 43, 'CTA\\n': 1, 'AAG\\n': 2, 'AGGG': 28, 'TGTA': 36, 'AG\\n': 5, 'CATA': 29, 'CTCC': 37, 'CCTG': 52, 'TTTT': 47, 'CAGT': 50, 'CTAT': 35, 'CTCT': 32, 'CTAA': 47, 'GCAC': 41, 'GGA\\n': 1, 'GTG\\n': 3, 'GG\\n': 9, 'TGAC': 51, 'CAAT': 32, 'CTGG': 41, 'CAGA': 34, 'TTGG': 40, 'AAAA': 34, 'AGTT': 37, 'ACGT': 29, 'TATG': 35, 'GCCG': 28, 'GCTT': 37, 'CTC\\n': 1, 'CAG\\n': 1, 'TCA\\n': 2, 'GACA': 43, 'GGCC': 36, 'CCTA': 41, 'GCAG': 47, 'AGAG': 33, 'TACA': 42, 'AAC\\n': 3, 'TCGA': 41, 'GCT\\n': 3, 'GCGA': 40, 'GTC\\n': 2, 'TACT': 40, 'CGG\\n': 1, 'GAGC': 33, 'GTAT': 32, 'GGAA': 39, 'CAAA': 35, 'CGC\\n': 1, 'TTAA': 39, 'AACC': 54, 'GCCA': 45, 'TAAC': 38, 'ATAC': 35, 'AATA': 35, 'CTAC': 43, 'GTCA': 31, 'TGGG': 28, 'AGCG': 45, 'ACT\\n': 1, 'TCAA': 35, 'ATTG': 36, 'CACG': 37, 'TTGA': 30, 'GCAA': 33}\n"
     ]
    }
   ],
   "source": [
    "count_kmersanysize(fastq,4)"
   ]
  },
  {
   "cell_type": "code",
   "execution_count": 22,
   "metadata": {
    "collapsed": false
   },
   "outputs": [
    {
     "name": "stdout",
     "output_type": "stream",
     "text": [
      "{'GC\\n': 5, 'CAC': 168, 'GGG': 133, 'TTT': 149, 'CT\\n': 7, 'AGG': 145, 'CG\\n': 2, 'AGC': 156, 'GCG': 164, 'TT\\n': 10, 'GTG': 166, 'ATG': 144, 'GCA': 154, 'CGG': 147, 'CGA': 169, 'T\\n': 30, 'TCT': 147, 'TCA': 139, 'AAC': 174, 'CGT': 143, 'CAT': 150, 'GAA': 166, 'TAT': 128, 'TGT': 146, 'CTA': 156, '\\n': 100, 'ACT': 175, 'TTG': 136, 'AT\\n': 5, 'TAG': 148, 'ATA': 139, 'ATT': 147, 'GCC': 157, 'TTA': 140, 'TCG': 155, 'GGT': 149, 'AA\\n': 4, 'AGT': 176, 'GG\\n': 9, 'TA\\n': 3, 'GTA': 146, 'AC\\n': 9, 'TC\\n': 5, 'TTC': 148, 'CAG': 170, 'CCA': 166, 'CCG': 155, 'ACA': 172, 'GTT': 148, 'ATC': 139, 'TCC': 169, 'GAT': 148, 'CC\\n': 4, 'CGC': 162, 'GCT': 140, 'TGC': 152, 'GGA': 150, 'AG\\n': 5, 'AGA': 145, 'CTT': 132, 'G\\n': 28, 'CCT': 169, 'CA\\n': 6, 'GGC': 140, 'CAA': 144, 'CTG': 178, 'TAC': 154, 'GAC': 163, 'AAG': 154, 'CCC': 136, 'ACC': 165, 'GA\\n': 6, 'TAA': 155, 'C\\n': 23, 'GAG': 150, 'TG\\n': 12, 'A\\n': 19, 'GT\\n': 8, 'AAA': 158, 'CTC': 163, 'TGG': 153, 'GTC': 159, 'TGA': 165, 'ACG': 144, 'AAT': 142}\n"
     ]
    }
   ],
   "source": [
    "count_kmersanysize(fastq,3)"
   ]
  },
  {
   "cell_type": "code",
   "execution_count": 23,
   "metadata": {
    "collapsed": true
   },
   "outputs": [],
   "source": [
    "# 4. Alter the counting function to allow for counting kmers of any size.\n",
    "def count_kmersanysize(file_name,n):\n",
    "    count_kmers = {}\n",
    "#check if key is in dictionary or not\n",
    "    for line_num,line in enumerate(file_name):\n",
    "        if line_num % 4 == 1:     \n",
    "            for base_num,base in enumerate (line[0:-2]):\n",
    "                kmer = line[base_num:base_num+n]\n",
    "                kmer = ''.join(kmer)\n",
    "                if kmer in count_kmers:\n",
    "                    count_kmers[kmer] += 1\n",
    "                else: count_kmers[kmer] = 1\n",
    "    print(count_kmers)"
   ]
  },
  {
   "cell_type": "code",
   "execution_count": 24,
   "metadata": {
    "collapsed": false
   },
   "outputs": [
    {
     "name": "stdout",
     "output_type": "stream",
     "text": [
      "{'GC\\n': 5, 'CAC': 168, 'GGG': 133, 'TTT': 149, 'CT\\n': 7, 'AGG': 145, 'CG\\n': 2, 'AGC': 156, 'TT\\n': 10, 'GTG': 166, 'ATG': 144, 'GCA': 154, 'CGG': 147, 'CGA': 169, 'GCG': 164, 'TCT': 147, 'TCA': 139, 'AAC': 174, 'CGT': 143, 'CAT': 150, 'GAA': 166, 'TAT': 128, 'TGT': 146, 'CTA': 156, 'AG\\n': 5, 'ACT': 175, 'TTG': 136, 'AT\\n': 5, 'TAG': 148, 'ATA': 139, 'ATT': 147, 'GCC': 157, 'TTA': 140, 'TCG': 155, 'GGT': 149, 'AA\\n': 4, 'AGT': 176, 'GG\\n': 9, 'TA\\n': 3, 'GTA': 146, 'TC\\n': 5, 'TTC': 148, 'CAG': 170, 'CCA': 166, 'CCG': 155, 'ACA': 172, 'GTT': 148, 'ATC': 139, 'TCC': 169, 'GAT': 148, 'CC\\n': 4, 'CGC': 162, 'GCT': 140, 'TGC': 152, 'GGA': 150, 'AGA': 145, 'CTT': 132, 'AC\\n': 9, 'CCT': 169, 'CA\\n': 6, 'GGC': 140, 'CAA': 144, 'CTG': 178, 'TAC': 154, 'GAC': 163, 'AAG': 154, 'CCC': 136, 'ACC': 165, 'GA\\n': 6, 'TAA': 155, 'GAG': 150, 'TG\\n': 12, 'GT\\n': 8, 'AAA': 158, 'CTC': 163, 'TGG': 153, 'GTC': 159, 'TGA': 165, 'ACG': 144, 'AAT': 142}\n"
     ]
    }
   ],
   "source": [
    "count_kmersanysize(fastq,3)"
   ]
  },
  {
   "cell_type": "code",
   "execution_count": null,
   "metadata": {
    "collapsed": true
   },
   "outputs": [],
   "source": []
  }
 ],
 "metadata": {
  "kernelspec": {
   "display_name": "Python [default]",
   "language": "python",
   "name": "python3"
  },
  "language_info": {
   "codemirror_mode": {
    "name": "ipython",
    "version": 3
   },
   "file_extension": ".py",
   "mimetype": "text/x-python",
   "name": "python",
   "nbconvert_exporter": "python",
   "pygments_lexer": "ipython3",
   "version": "3.5.2"
  }
 },
 "nbformat": 4,
 "nbformat_minor": 1
}
