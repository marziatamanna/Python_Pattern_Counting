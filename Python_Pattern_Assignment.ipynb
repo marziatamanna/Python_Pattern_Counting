{
 "cells": [
  {
   "cell_type": "code",
   "execution_count": 1,
   "metadata": {
    "collapsed": false
   },
   "outputs": [
    {
     "name": "stdout",
     "output_type": "stream",
     "text": [
      "{'A': 200, 'C': 195, 'T': 210, 'G': 195}\n"
     ]
    },
    {
     "name": "stderr",
     "output_type": "stream",
     "text": [
      "  % Total    % Received % Xferd  Average Speed   Time    Time     Time  Current\n",
      "                                 Dload  Upload   Total   Spent    Left  Speed\n",
      "\n",
      "  0     0    0     0    0     0      0      0 --:--:-- --:--:-- --:--:--     0\n",
      "100 21190  100 21190    0     0   220k      0 --:--:-- --:--:-- --:--:--  220k\n"
     ]
    }
   ],
   "source": [
    "# 1. Count the number of each base across all sequences.\n",
    "!curl -O http://rachelss.github.io/Bioinformatics/sample.fastq\n",
    "filename = 'sample.fastq'\n",
    "f = open(filename,'r')\n",
    "fastq = f.readlines()\n",
    "count_bases = {'A':0, 'C':0, 'G':0, 'T':0}\n",
    "for line_num,line in enumerate(fastq[0:30]):\n",
    "    if line_num % 4 == 1:\n",
    "        for base in line:\n",
    "            if base == 'A':\n",
    "                count_bases['A'] += 1\n",
    "            elif base == 'C':\n",
    "                  count_bases['C'] += 1 \n",
    "            elif base == 'G':\n",
    "                  count_bases['G'] += 1 \n",
    "            elif base == 'T':\n",
    "                  count_bases['T'] += 1\n",
    "print(count_bases)"
   ]
  },
  {
   "cell_type": "code",
   "execution_count": 2,
   "metadata": {
    "collapsed": false
   },
   "outputs": [
    {
     "name": "stdout",
     "output_type": "stream",
     "text": [
      "{'AG': 45, 'GG': 48, 'CT': 56, 'CG': 50, 'GA': 49, 'GC': 40, 'AT': 44, 'TG': 50, 'TA': 48, 'CA': 43, 'CC': 44, 'AA': 58, 'TC': 58, 'AC': 52, 'GT': 56, 'TT': 51}\n"
     ]
    }
   ],
   "source": [
    "# 2. Count the number of each pair of bases (described as kmers of size 2).\n",
    "count_kmers = {'AA':0, 'CC':0, 'GG':0, 'TT':0, 'AT':0, 'GT':0, 'AC':0, 'AG':0, 'CA':0, 'CG':0, 'CT':0, 'GA':0, 'GC':0, 'TA':0, 'TC':0, 'TG':0}\n",
    "#count all kmers of length two in this file\n",
    "for line_num,line in enumerate(fastq[0:30]):\n",
    "    if line_num % 4 == 1:\n",
    "        for base_num,base in enumerate (line[0:-2]):     \n",
    "            kmer = line[base_num:base_num+2]\n",
    "            kmer = ''.join(kmer)\n",
    "            count_kmers[kmer] += 1      \n",
    "print(count_kmers)"
   ]
  },
  {
   "cell_type": "code",
   "execution_count": 3,
   "metadata": {
    "collapsed": false
   },
   "outputs": [
    {
     "name": "stdout",
     "output_type": "stream",
     "text": [
      "{'AG': 45, 'GG': 48, 'CT': 56, 'GA': 49, 'GC': 40, 'AT': 44, 'TG': 50, 'TA': 48, 'CA': 43, 'CC': 44, 'AA': 58, 'AC': 52, 'TC': 58, 'CG': 50, 'GT': 56, 'TT': 51}\n"
     ]
    }
   ],
   "source": [
    "# 3. Count the number of each pair of bases, without  assuming you know in advance the possible pairs\n",
    "count_kmers = {}\n",
    "#check if key is in dictionary or not\n",
    "for line_num,line in enumerate(fastq[0:30]):\n",
    "    if line_num % 4 == 1:     \n",
    "        for base_num,base in enumerate (line[0:-2]):\n",
    "            kmer = line[base_num:base_num+2]\n",
    "            kmer = ''.join(kmer)\n",
    "            if kmer in count_kmers:\n",
    "                count_kmers[kmer] += 1\n",
    "            else: count_kmers[kmer] = 1\n",
    "print(count_kmers)"
   ]
  },
  {
   "cell_type": "code",
   "execution_count": null,
   "metadata": {
    "collapsed": true
   },
   "outputs": [],
   "source": [
    "# 4. Alter the counting function to allow for counting kmers of any size."
   ]
  }
 ],
 "metadata": {
  "anaconda-cloud": {},
  "kernelspec": {
   "display_name": "Python [default]",
   "language": "python",
   "name": "python3"
  },
  "language_info": {
   "codemirror_mode": {
    "name": "ipython",
    "version": 3
   },
   "file_extension": ".py",
   "mimetype": "text/x-python",
   "name": "python",
   "nbconvert_exporter": "python",
   "pygments_lexer": "ipython3",
   "version": "3.5.2"
  }
 },
 "nbformat": 4,
 "nbformat_minor": 1
}
